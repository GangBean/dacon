{
 "cells": [
  {
   "cell_type": "code",
   "execution_count": 1,
   "metadata": {},
   "outputs": [],
   "source": [
    "import pandas as pd\n",
    "import numpy as np\n",
    "from rdkit import Chem\n",
    "from rdkit.Chem import Draw\n",
    "import torch\n",
    "import torch.nn as nn\n",
    "import torch.optim as optim\n",
    "\n",
    "from torch.utils.data import Dataset, DataLoader\n",
    "from torchvision import models, transforms\n",
    "from torchvision.models.resnet import ResNet50_Weights\n",
    "\n",
    "from tqdm import tqdm\n",
    "from datetime import datetime\n",
    "import pytz\n",
    "\n",
    "import ssl\n",
    "\n",
    "ssl._create_default_https_context = ssl._create_unverified_context"
   ]
  },
  {
   "cell_type": "markdown",
   "metadata": {},
   "source": [
    "# 1. Train Data 확인\n",
    "---\n",
    "## 1-1. 데이터 Meta data 확인"
   ]
  },
  {
   "cell_type": "code",
   "execution_count": 2,
   "metadata": {},
   "outputs": [],
   "source": [
    "import os"
   ]
  },
  {
   "cell_type": "code",
   "execution_count": 3,
   "metadata": {},
   "outputs": [],
   "source": [
    "TRAIN_FILE_NAME = \"train.csv\"\n",
    "DATA_PATH = \"../data\"\n",
    "\n",
    "file_path = os.path.join(DATA_PATH, TRAIN_FILE_NAME)\n",
    "if os.path.exists(file_path):\n",
    "    train_df = pd.read_csv(file_path)\n",
    "else:\n",
    "    print(f\"There is no file: {file_path}\")"
   ]
  },
  {
   "cell_type": "code",
   "execution_count": 6,
   "metadata": {},
   "outputs": [
    {
     "data": {
      "text/plain": [
       "('CHEMBL1232515', 'CHEMBL5290771')"
      ]
     },
     "execution_count": 6,
     "metadata": {},
     "output_type": "execute_result"
    }
   ],
   "source": [
    "train_df['Molecule ChEMBL ID'].min(), train_df['Molecule ChEMBL ID'].max()"
   ]
  },
  {
   "cell_type": "markdown",
   "metadata": {},
   "source": [
    "- 2010년 ~ 2023년 5월 까지 데이터"
   ]
  },
  {
   "cell_type": "code",
   "execution_count": 5,
   "metadata": {},
   "outputs": [
    {
     "data": {
      "text/html": [
       "<div>\n",
       "<style scoped>\n",
       "    .dataframe tbody tr th:only-of-type {\n",
       "        vertical-align: middle;\n",
       "    }\n",
       "\n",
       "    .dataframe tbody tr th {\n",
       "        vertical-align: top;\n",
       "    }\n",
       "\n",
       "    .dataframe thead th {\n",
       "        text-align: right;\n",
       "    }\n",
       "</style>\n",
       "<table border=\"1\" class=\"dataframe\">\n",
       "  <thead>\n",
       "    <tr style=\"text-align: right;\">\n",
       "      <th></th>\n",
       "      <th>Standard Value</th>\n",
       "      <th>pChEMBL Value</th>\n",
       "      <th>IC50_nM</th>\n",
       "      <th>pIC50</th>\n",
       "    </tr>\n",
       "  </thead>\n",
       "  <tbody>\n",
       "    <tr>\n",
       "      <th>count</th>\n",
       "      <td>1952.000000</td>\n",
       "      <td>1952.000000</td>\n",
       "      <td>1952.000000</td>\n",
       "      <td>1952.000000</td>\n",
       "    </tr>\n",
       "    <tr>\n",
       "      <th>mean</th>\n",
       "      <td>649.001365</td>\n",
       "      <td>7.518586</td>\n",
       "      <td>649.001365</td>\n",
       "      <td>7.518586</td>\n",
       "    </tr>\n",
       "    <tr>\n",
       "      <th>std</th>\n",
       "      <td>2639.946734</td>\n",
       "      <td>1.107959</td>\n",
       "      <td>2639.946734</td>\n",
       "      <td>1.107959</td>\n",
       "    </tr>\n",
       "    <tr>\n",
       "      <th>min</th>\n",
       "      <td>0.022000</td>\n",
       "      <td>4.260000</td>\n",
       "      <td>0.022000</td>\n",
       "      <td>4.260000</td>\n",
       "    </tr>\n",
       "    <tr>\n",
       "      <th>25%</th>\n",
       "      <td>4.100000</td>\n",
       "      <td>6.680000</td>\n",
       "      <td>4.100000</td>\n",
       "      <td>6.680000</td>\n",
       "    </tr>\n",
       "    <tr>\n",
       "      <th>50%</th>\n",
       "      <td>15.250000</td>\n",
       "      <td>7.820000</td>\n",
       "      <td>15.250000</td>\n",
       "      <td>7.820000</td>\n",
       "    </tr>\n",
       "    <tr>\n",
       "      <th>75%</th>\n",
       "      <td>209.197500</td>\n",
       "      <td>8.390000</td>\n",
       "      <td>209.197500</td>\n",
       "      <td>8.390000</td>\n",
       "    </tr>\n",
       "    <tr>\n",
       "      <th>max</th>\n",
       "      <td>55000.000000</td>\n",
       "      <td>10.660000</td>\n",
       "      <td>55000.000000</td>\n",
       "      <td>10.660000</td>\n",
       "    </tr>\n",
       "  </tbody>\n",
       "</table>\n",
       "</div>"
      ],
      "text/plain": [
       "       Standard Value  pChEMBL Value       IC50_nM        pIC50\n",
       "count     1952.000000    1952.000000   1952.000000  1952.000000\n",
       "mean       649.001365       7.518586    649.001365     7.518586\n",
       "std       2639.946734       1.107959   2639.946734     1.107959\n",
       "min          0.022000       4.260000      0.022000     4.260000\n",
       "25%          4.100000       6.680000      4.100000     6.680000\n",
       "50%         15.250000       7.820000     15.250000     7.820000\n",
       "75%        209.197500       8.390000    209.197500     8.390000\n",
       "max      55000.000000      10.660000  55000.000000    10.660000"
      ]
     },
     "execution_count": 5,
     "metadata": {},
     "output_type": "execute_result"
    }
   ],
   "source": [
    "train_df.describe()"
   ]
  },
  {
   "cell_type": "code",
   "execution_count": 6,
   "metadata": {},
   "outputs": [
    {
     "data": {
      "text/html": [
       "<div>\n",
       "<style scoped>\n",
       "    .dataframe tbody tr th:only-of-type {\n",
       "        vertical-align: middle;\n",
       "    }\n",
       "\n",
       "    .dataframe tbody tr th {\n",
       "        vertical-align: top;\n",
       "    }\n",
       "\n",
       "    .dataframe thead th {\n",
       "        text-align: right;\n",
       "    }\n",
       "</style>\n",
       "<table border=\"1\" class=\"dataframe\">\n",
       "  <thead>\n",
       "    <tr style=\"text-align: right;\">\n",
       "      <th></th>\n",
       "      <th>Molecule ChEMBL ID</th>\n",
       "      <th>Standard Type</th>\n",
       "      <th>Standard Relation</th>\n",
       "      <th>Standard Value</th>\n",
       "      <th>Standard Units</th>\n",
       "      <th>pChEMBL Value</th>\n",
       "      <th>Assay ChEMBL ID</th>\n",
       "      <th>Target ChEMBL ID</th>\n",
       "      <th>Target Name</th>\n",
       "      <th>Target Organism</th>\n",
       "      <th>Target Type</th>\n",
       "      <th>Document ChEMBL ID</th>\n",
       "      <th>IC50_nM</th>\n",
       "      <th>pIC50</th>\n",
       "      <th>Smiles</th>\n",
       "    </tr>\n",
       "  </thead>\n",
       "  <tbody>\n",
       "    <tr>\n",
       "      <th>0</th>\n",
       "      <td>CHEMBL4443947</td>\n",
       "      <td>IC50</td>\n",
       "      <td>'='</td>\n",
       "      <td>0.022</td>\n",
       "      <td>nM</td>\n",
       "      <td>10.66</td>\n",
       "      <td>CHEMBL4361896</td>\n",
       "      <td>CHEMBL3778</td>\n",
       "      <td>Interleukin-1 receptor-associated kinase 4</td>\n",
       "      <td>Homo sapiens</td>\n",
       "      <td>SINGLE PROTEIN</td>\n",
       "      <td>CHEMBL4359855</td>\n",
       "      <td>0.022</td>\n",
       "      <td>10.66</td>\n",
       "      <td>CN[C@@H](C)C(=O)N[C@H](C(=O)N1C[C@@H](NC(=O)CC...</td>\n",
       "    </tr>\n",
       "    <tr>\n",
       "      <th>1</th>\n",
       "      <td>CHEMBL4556091</td>\n",
       "      <td>IC50</td>\n",
       "      <td>'='</td>\n",
       "      <td>0.026</td>\n",
       "      <td>nM</td>\n",
       "      <td>10.59</td>\n",
       "      <td>CHEMBL4345131</td>\n",
       "      <td>CHEMBL3778</td>\n",
       "      <td>Interleukin-1 receptor-associated kinase 4</td>\n",
       "      <td>Homo sapiens</td>\n",
       "      <td>SINGLE PROTEIN</td>\n",
       "      <td>CHEMBL4342485</td>\n",
       "      <td>0.026</td>\n",
       "      <td>10.59</td>\n",
       "      <td>CC(C)(O)[C@H](F)CN1Cc2cc(NC(=O)c3cnn4cccnc34)c...</td>\n",
       "    </tr>\n",
       "    <tr>\n",
       "      <th>2</th>\n",
       "      <td>CHEMBL4566431</td>\n",
       "      <td>IC50</td>\n",
       "      <td>'='</td>\n",
       "      <td>0.078</td>\n",
       "      <td>nM</td>\n",
       "      <td>10.11</td>\n",
       "      <td>CHEMBL4345131</td>\n",
       "      <td>CHEMBL3778</td>\n",
       "      <td>Interleukin-1 receptor-associated kinase 4</td>\n",
       "      <td>Homo sapiens</td>\n",
       "      <td>SINGLE PROTEIN</td>\n",
       "      <td>CHEMBL4342485</td>\n",
       "      <td>0.078</td>\n",
       "      <td>10.11</td>\n",
       "      <td>CC(C)(O)[C@H](F)CN1Cc2cc(NC(=O)c3cnn4cccnc34)c...</td>\n",
       "    </tr>\n",
       "    <tr>\n",
       "      <th>3</th>\n",
       "      <td>CHEMBL4545898</td>\n",
       "      <td>IC50</td>\n",
       "      <td>'='</td>\n",
       "      <td>0.081</td>\n",
       "      <td>nM</td>\n",
       "      <td>10.09</td>\n",
       "      <td>CHEMBL4345131</td>\n",
       "      <td>CHEMBL3778</td>\n",
       "      <td>Interleukin-1 receptor-associated kinase 4</td>\n",
       "      <td>Homo sapiens</td>\n",
       "      <td>SINGLE PROTEIN</td>\n",
       "      <td>CHEMBL4342485</td>\n",
       "      <td>0.081</td>\n",
       "      <td>10.09</td>\n",
       "      <td>CC(C)(O)[C@H](F)CN1Cc2cc(NC(=O)c3cnn4cccnc34)c...</td>\n",
       "    </tr>\n",
       "    <tr>\n",
       "      <th>4</th>\n",
       "      <td>CHEMBL4448950</td>\n",
       "      <td>IC50</td>\n",
       "      <td>'='</td>\n",
       "      <td>0.099</td>\n",
       "      <td>nM</td>\n",
       "      <td>10.00</td>\n",
       "      <td>CHEMBL4361896</td>\n",
       "      <td>CHEMBL3778</td>\n",
       "      <td>Interleukin-1 receptor-associated kinase 4</td>\n",
       "      <td>Homo sapiens</td>\n",
       "      <td>SINGLE PROTEIN</td>\n",
       "      <td>CHEMBL4359855</td>\n",
       "      <td>0.099</td>\n",
       "      <td>10.00</td>\n",
       "      <td>COc1cc2c(OC[C@@H]3CCC(=O)N3)ncc(C#CCCCCCCCCCCC...</td>\n",
       "    </tr>\n",
       "  </tbody>\n",
       "</table>\n",
       "</div>"
      ],
      "text/plain": [
       "  Molecule ChEMBL ID Standard Type Standard Relation  Standard Value  \\\n",
       "0      CHEMBL4443947          IC50               '='           0.022   \n",
       "1      CHEMBL4556091          IC50               '='           0.026   \n",
       "2      CHEMBL4566431          IC50               '='           0.078   \n",
       "3      CHEMBL4545898          IC50               '='           0.081   \n",
       "4      CHEMBL4448950          IC50               '='           0.099   \n",
       "\n",
       "  Standard Units  pChEMBL Value Assay ChEMBL ID Target ChEMBL ID  \\\n",
       "0             nM          10.66   CHEMBL4361896       CHEMBL3778   \n",
       "1             nM          10.59   CHEMBL4345131       CHEMBL3778   \n",
       "2             nM          10.11   CHEMBL4345131       CHEMBL3778   \n",
       "3             nM          10.09   CHEMBL4345131       CHEMBL3778   \n",
       "4             nM          10.00   CHEMBL4361896       CHEMBL3778   \n",
       "\n",
       "                                  Target Name Target Organism     Target Type  \\\n",
       "0  Interleukin-1 receptor-associated kinase 4    Homo sapiens  SINGLE PROTEIN   \n",
       "1  Interleukin-1 receptor-associated kinase 4    Homo sapiens  SINGLE PROTEIN   \n",
       "2  Interleukin-1 receptor-associated kinase 4    Homo sapiens  SINGLE PROTEIN   \n",
       "3  Interleukin-1 receptor-associated kinase 4    Homo sapiens  SINGLE PROTEIN   \n",
       "4  Interleukin-1 receptor-associated kinase 4    Homo sapiens  SINGLE PROTEIN   \n",
       "\n",
       "  Document ChEMBL ID  IC50_nM  pIC50  \\\n",
       "0      CHEMBL4359855    0.022  10.66   \n",
       "1      CHEMBL4342485    0.026  10.59   \n",
       "2      CHEMBL4342485    0.078  10.11   \n",
       "3      CHEMBL4342485    0.081  10.09   \n",
       "4      CHEMBL4359855    0.099  10.00   \n",
       "\n",
       "                                              Smiles  \n",
       "0  CN[C@@H](C)C(=O)N[C@H](C(=O)N1C[C@@H](NC(=O)CC...  \n",
       "1  CC(C)(O)[C@H](F)CN1Cc2cc(NC(=O)c3cnn4cccnc34)c...  \n",
       "2  CC(C)(O)[C@H](F)CN1Cc2cc(NC(=O)c3cnn4cccnc34)c...  \n",
       "3  CC(C)(O)[C@H](F)CN1Cc2cc(NC(=O)c3cnn4cccnc34)c...  \n",
       "4  COc1cc2c(OC[C@@H]3CCC(=O)N3)ncc(C#CCCCCCCCCCCC...  "
      ]
     },
     "execution_count": 6,
     "metadata": {},
     "output_type": "execute_result"
    }
   ],
   "source": [
    "train_df.head()"
   ]
  },
  {
   "cell_type": "code",
   "execution_count": 7,
   "metadata": {},
   "outputs": [
    {
     "name": "stdout",
     "output_type": "stream",
     "text": [
      "<class 'pandas.core.frame.DataFrame'>\n",
      "RangeIndex: 1952 entries, 0 to 1951\n",
      "Data columns (total 15 columns):\n",
      " #   Column              Non-Null Count  Dtype  \n",
      "---  ------              --------------  -----  \n",
      " 0   Molecule ChEMBL ID  1952 non-null   object \n",
      " 1   Standard Type       1952 non-null   object \n",
      " 2   Standard Relation   1952 non-null   object \n",
      " 3   Standard Value      1952 non-null   float64\n",
      " 4   Standard Units      1952 non-null   object \n",
      " 5   pChEMBL Value       1952 non-null   float64\n",
      " 6   Assay ChEMBL ID     1952 non-null   object \n",
      " 7   Target ChEMBL ID    1952 non-null   object \n",
      " 8   Target Name         1952 non-null   object \n",
      " 9   Target Organism     1952 non-null   object \n",
      " 10  Target Type         1952 non-null   object \n",
      " 11  Document ChEMBL ID  1952 non-null   object \n",
      " 12  IC50_nM             1952 non-null   float64\n",
      " 13  pIC50               1952 non-null   float64\n",
      " 14  Smiles              1952 non-null   object \n",
      "dtypes: float64(4), object(11)\n",
      "memory usage: 228.9+ KB\n"
     ]
    }
   ],
   "source": [
    "train_df.info()"
   ]
  },
  {
   "cell_type": "code",
   "execution_count": 8,
   "metadata": {},
   "outputs": [
    {
     "data": {
      "text/plain": [
       "0"
      ]
     },
     "execution_count": 8,
     "metadata": {},
     "output_type": "execute_result"
    }
   ],
   "source": [
    "sum(train_df['Standard Value'] != train_df['IC50_nM'])"
   ]
  },
  {
   "cell_type": "code",
   "execution_count": 9,
   "metadata": {},
   "outputs": [
    {
     "data": {
      "text/plain": [
       "0"
      ]
     },
     "execution_count": 9,
     "metadata": {},
     "output_type": "execute_result"
    }
   ],
   "source": [
    "sum(train_df['pChEMBL Value'] != train_df['pIC50'])"
   ]
  },
  {
   "cell_type": "code",
   "execution_count": 10,
   "metadata": {},
   "outputs": [],
   "source": [
    "# 전처리\n",
    "train_df = train_df.drop(['Standard Value', 'pChEMBL Value'], axis=1)"
   ]
  },
  {
   "cell_type": "code",
   "execution_count": 11,
   "metadata": {},
   "outputs": [
    {
     "name": "stdout",
     "output_type": "stream",
     "text": [
      "<class 'pandas.core.frame.DataFrame'>\n",
      "RangeIndex: 1952 entries, 0 to 1951\n",
      "Data columns (total 13 columns):\n",
      " #   Column              Non-Null Count  Dtype  \n",
      "---  ------              --------------  -----  \n",
      " 0   Molecule ChEMBL ID  1952 non-null   object \n",
      " 1   Standard Type       1952 non-null   object \n",
      " 2   Standard Relation   1952 non-null   object \n",
      " 3   Standard Units      1952 non-null   object \n",
      " 4   Assay ChEMBL ID     1952 non-null   object \n",
      " 5   Target ChEMBL ID    1952 non-null   object \n",
      " 6   Target Name         1952 non-null   object \n",
      " 7   Target Organism     1952 non-null   object \n",
      " 8   Target Type         1952 non-null   object \n",
      " 9   Document ChEMBL ID  1952 non-null   object \n",
      " 10  IC50_nM             1952 non-null   float64\n",
      " 11  pIC50               1952 non-null   float64\n",
      " 12  Smiles              1952 non-null   object \n",
      "dtypes: float64(2), object(11)\n",
      "memory usage: 198.4+ KB\n"
     ]
    }
   ],
   "source": [
    "train_df.info()"
   ]
  },
  {
   "cell_type": "code",
   "execution_count": 12,
   "metadata": {},
   "outputs": [],
   "source": [
    "import math"
   ]
  },
  {
   "cell_type": "code",
   "execution_count": 13,
   "metadata": {},
   "outputs": [],
   "source": [
    "def to_pIC(ic50: float) -> float:\n",
    "    ic50 = 9 - math.log10(ic50)\n",
    "    return round(round(ic50, ndigits=3), ndigits=2)"
   ]
  },
  {
   "cell_type": "code",
   "execution_count": 14,
   "metadata": {},
   "outputs": [
    {
     "data": {
      "text/plain": [
       "0"
      ]
     },
     "execution_count": 14,
     "metadata": {},
     "output_type": "execute_result"
    }
   ],
   "source": [
    "sum(train_df['IC50_nM'].apply(lambda v: to_pIC(v)) != train_df['pIC50'])"
   ]
  },
  {
   "cell_type": "markdown",
   "metadata": {},
   "source": [
    "- 학습 데이터에 존재하는 pIC 값 변환 로직 확인"
   ]
  },
  {
   "cell_type": "code",
   "execution_count": 15,
   "metadata": {},
   "outputs": [
    {
     "data": {
      "text/html": [
       "<div>\n",
       "<style scoped>\n",
       "    .dataframe tbody tr th:only-of-type {\n",
       "        vertical-align: middle;\n",
       "    }\n",
       "\n",
       "    .dataframe tbody tr th {\n",
       "        vertical-align: top;\n",
       "    }\n",
       "\n",
       "    .dataframe thead th {\n",
       "        text-align: right;\n",
       "    }\n",
       "</style>\n",
       "<table border=\"1\" class=\"dataframe\">\n",
       "  <thead>\n",
       "    <tr style=\"text-align: right;\">\n",
       "      <th></th>\n",
       "      <th>Molecule ChEMBL ID</th>\n",
       "      <th>Standard Type</th>\n",
       "      <th>Standard Relation</th>\n",
       "      <th>Standard Units</th>\n",
       "      <th>Assay ChEMBL ID</th>\n",
       "      <th>Target ChEMBL ID</th>\n",
       "      <th>Target Name</th>\n",
       "      <th>Target Organism</th>\n",
       "      <th>Target Type</th>\n",
       "      <th>Document ChEMBL ID</th>\n",
       "      <th>IC50_nM</th>\n",
       "      <th>pIC50</th>\n",
       "      <th>Smiles</th>\n",
       "    </tr>\n",
       "  </thead>\n",
       "  <tbody>\n",
       "    <tr>\n",
       "      <th>0</th>\n",
       "      <td>CHEMBL4443947</td>\n",
       "      <td>IC50</td>\n",
       "      <td>'='</td>\n",
       "      <td>nM</td>\n",
       "      <td>CHEMBL4361896</td>\n",
       "      <td>CHEMBL3778</td>\n",
       "      <td>Interleukin-1 receptor-associated kinase 4</td>\n",
       "      <td>Homo sapiens</td>\n",
       "      <td>SINGLE PROTEIN</td>\n",
       "      <td>CHEMBL4359855</td>\n",
       "      <td>0.022</td>\n",
       "      <td>10.66</td>\n",
       "      <td>CN[C@@H](C)C(=O)N[C@H](C(=O)N1C[C@@H](NC(=O)CC...</td>\n",
       "    </tr>\n",
       "    <tr>\n",
       "      <th>1</th>\n",
       "      <td>CHEMBL4556091</td>\n",
       "      <td>IC50</td>\n",
       "      <td>'='</td>\n",
       "      <td>nM</td>\n",
       "      <td>CHEMBL4345131</td>\n",
       "      <td>CHEMBL3778</td>\n",
       "      <td>Interleukin-1 receptor-associated kinase 4</td>\n",
       "      <td>Homo sapiens</td>\n",
       "      <td>SINGLE PROTEIN</td>\n",
       "      <td>CHEMBL4342485</td>\n",
       "      <td>0.026</td>\n",
       "      <td>10.59</td>\n",
       "      <td>CC(C)(O)[C@H](F)CN1Cc2cc(NC(=O)c3cnn4cccnc34)c...</td>\n",
       "    </tr>\n",
       "    <tr>\n",
       "      <th>2</th>\n",
       "      <td>CHEMBL4566431</td>\n",
       "      <td>IC50</td>\n",
       "      <td>'='</td>\n",
       "      <td>nM</td>\n",
       "      <td>CHEMBL4345131</td>\n",
       "      <td>CHEMBL3778</td>\n",
       "      <td>Interleukin-1 receptor-associated kinase 4</td>\n",
       "      <td>Homo sapiens</td>\n",
       "      <td>SINGLE PROTEIN</td>\n",
       "      <td>CHEMBL4342485</td>\n",
       "      <td>0.078</td>\n",
       "      <td>10.11</td>\n",
       "      <td>CC(C)(O)[C@H](F)CN1Cc2cc(NC(=O)c3cnn4cccnc34)c...</td>\n",
       "    </tr>\n",
       "    <tr>\n",
       "      <th>3</th>\n",
       "      <td>CHEMBL4545898</td>\n",
       "      <td>IC50</td>\n",
       "      <td>'='</td>\n",
       "      <td>nM</td>\n",
       "      <td>CHEMBL4345131</td>\n",
       "      <td>CHEMBL3778</td>\n",
       "      <td>Interleukin-1 receptor-associated kinase 4</td>\n",
       "      <td>Homo sapiens</td>\n",
       "      <td>SINGLE PROTEIN</td>\n",
       "      <td>CHEMBL4342485</td>\n",
       "      <td>0.081</td>\n",
       "      <td>10.09</td>\n",
       "      <td>CC(C)(O)[C@H](F)CN1Cc2cc(NC(=O)c3cnn4cccnc34)c...</td>\n",
       "    </tr>\n",
       "    <tr>\n",
       "      <th>4</th>\n",
       "      <td>CHEMBL4448950</td>\n",
       "      <td>IC50</td>\n",
       "      <td>'='</td>\n",
       "      <td>nM</td>\n",
       "      <td>CHEMBL4361896</td>\n",
       "      <td>CHEMBL3778</td>\n",
       "      <td>Interleukin-1 receptor-associated kinase 4</td>\n",
       "      <td>Homo sapiens</td>\n",
       "      <td>SINGLE PROTEIN</td>\n",
       "      <td>CHEMBL4359855</td>\n",
       "      <td>0.099</td>\n",
       "      <td>10.00</td>\n",
       "      <td>COc1cc2c(OC[C@@H]3CCC(=O)N3)ncc(C#CCCCCCCCCCCC...</td>\n",
       "    </tr>\n",
       "  </tbody>\n",
       "</table>\n",
       "</div>"
      ],
      "text/plain": [
       "  Molecule ChEMBL ID Standard Type Standard Relation Standard Units  \\\n",
       "0      CHEMBL4443947          IC50               '='             nM   \n",
       "1      CHEMBL4556091          IC50               '='             nM   \n",
       "2      CHEMBL4566431          IC50               '='             nM   \n",
       "3      CHEMBL4545898          IC50               '='             nM   \n",
       "4      CHEMBL4448950          IC50               '='             nM   \n",
       "\n",
       "  Assay ChEMBL ID Target ChEMBL ID  \\\n",
       "0   CHEMBL4361896       CHEMBL3778   \n",
       "1   CHEMBL4345131       CHEMBL3778   \n",
       "2   CHEMBL4345131       CHEMBL3778   \n",
       "3   CHEMBL4345131       CHEMBL3778   \n",
       "4   CHEMBL4361896       CHEMBL3778   \n",
       "\n",
       "                                  Target Name Target Organism     Target Type  \\\n",
       "0  Interleukin-1 receptor-associated kinase 4    Homo sapiens  SINGLE PROTEIN   \n",
       "1  Interleukin-1 receptor-associated kinase 4    Homo sapiens  SINGLE PROTEIN   \n",
       "2  Interleukin-1 receptor-associated kinase 4    Homo sapiens  SINGLE PROTEIN   \n",
       "3  Interleukin-1 receptor-associated kinase 4    Homo sapiens  SINGLE PROTEIN   \n",
       "4  Interleukin-1 receptor-associated kinase 4    Homo sapiens  SINGLE PROTEIN   \n",
       "\n",
       "  Document ChEMBL ID  IC50_nM  pIC50  \\\n",
       "0      CHEMBL4359855    0.022  10.66   \n",
       "1      CHEMBL4342485    0.026  10.59   \n",
       "2      CHEMBL4342485    0.078  10.11   \n",
       "3      CHEMBL4342485    0.081  10.09   \n",
       "4      CHEMBL4359855    0.099  10.00   \n",
       "\n",
       "                                              Smiles  \n",
       "0  CN[C@@H](C)C(=O)N[C@H](C(=O)N1C[C@@H](NC(=O)CC...  \n",
       "1  CC(C)(O)[C@H](F)CN1Cc2cc(NC(=O)c3cnn4cccnc34)c...  \n",
       "2  CC(C)(O)[C@H](F)CN1Cc2cc(NC(=O)c3cnn4cccnc34)c...  \n",
       "3  CC(C)(O)[C@H](F)CN1Cc2cc(NC(=O)c3cnn4cccnc34)c...  \n",
       "4  COc1cc2c(OC[C@@H]3CCC(=O)N3)ncc(C#CCCCCCCCCCCC...  "
      ]
     },
     "execution_count": 15,
     "metadata": {},
     "output_type": "execute_result"
    }
   ],
   "source": [
    "train_df.head()"
   ]
  },
  {
   "cell_type": "code",
   "execution_count": 16,
   "metadata": {},
   "outputs": [],
   "source": [
    "# 전처리\n",
    "train_df = train_df.drop(train_df.columns[train_df.nunique() == 1], axis=1)"
   ]
  },
  {
   "cell_type": "markdown",
   "metadata": {},
   "source": [
    "- 학습 데이터 칼럼 중 unique 값이 1개인 대상들 drop"
   ]
  },
  {
   "cell_type": "code",
   "execution_count": 17,
   "metadata": {},
   "outputs": [],
   "source": [
    "sample = train_df.iloc[1:4]['Smiles']"
   ]
  },
  {
   "cell_type": "code",
   "execution_count": 18,
   "metadata": {},
   "outputs": [
    {
     "data": {
      "text/plain": [
       "'CC(C)(O)[C@H](F)CN1Cc2cc(NC(=O)c3cnn4cccnc34)c(N3CCC(N4CCC4)CC3)cc2C1=O'"
      ]
     },
     "execution_count": 18,
     "metadata": {},
     "output_type": "execute_result"
    }
   ],
   "source": [
    "sample.iloc[0]"
   ]
  },
  {
   "cell_type": "code",
   "execution_count": 19,
   "metadata": {},
   "outputs": [
    {
     "data": {
      "text/plain": [
       "'CC(C)(O)[C@H](F)CN1Cc2cc(NC(=O)c3cnn4cccnc34)c(N3CCN(C4COC4)CC3)cc2C1=O'"
      ]
     },
     "execution_count": 19,
     "metadata": {},
     "output_type": "execute_result"
    }
   ],
   "source": [
    "sample.iloc[1]"
   ]
  },
  {
   "cell_type": "code",
   "execution_count": 20,
   "metadata": {},
   "outputs": [
    {
     "data": {
      "text/plain": [
       "'CC(C)(O)[C@H](F)CN1Cc2cc(NC(=O)c3cnn4cccnc34)c(N3CCN(CC(F)F)CC3)cc2C1=O'"
      ]
     },
     "execution_count": 20,
     "metadata": {},
     "output_type": "execute_result"
    }
   ],
   "source": [
    "sample.iloc[2]"
   ]
  },
  {
   "cell_type": "code",
   "execution_count": 21,
   "metadata": {},
   "outputs": [
    {
     "data": {
      "text/plain": [
       "1    71\n",
       "2    71\n",
       "3    71\n",
       "Name: Smiles, dtype: int64"
      ]
     },
     "execution_count": 21,
     "metadata": {},
     "output_type": "execute_result"
    }
   ],
   "source": [
    "sample.apply(lambda v: len(v))"
   ]
  },
  {
   "cell_type": "code",
   "execution_count": 22,
   "metadata": {},
   "outputs": [
    {
     "name": "stdout",
     "output_type": "stream",
     "text": [
      "<class 'pandas.core.frame.DataFrame'>\n",
      "RangeIndex: 1952 entries, 0 to 1951\n",
      "Data columns (total 6 columns):\n",
      " #   Column              Non-Null Count  Dtype  \n",
      "---  ------              --------------  -----  \n",
      " 0   Molecule ChEMBL ID  1952 non-null   object \n",
      " 1   Assay ChEMBL ID     1952 non-null   object \n",
      " 2   Document ChEMBL ID  1952 non-null   object \n",
      " 3   IC50_nM             1952 non-null   float64\n",
      " 4   pIC50               1952 non-null   float64\n",
      " 5   Smiles              1952 non-null   object \n",
      "dtypes: float64(2), object(4)\n",
      "memory usage: 91.6+ KB\n"
     ]
    }
   ],
   "source": [
    "train_df.info()"
   ]
  },
  {
   "cell_type": "code",
   "execution_count": 23,
   "metadata": {},
   "outputs": [
    {
     "data": {
      "text/plain": [
       "array(['CHEMBL'], dtype=object)"
      ]
     },
     "execution_count": 23,
     "metadata": {},
     "output_type": "execute_result"
    }
   ],
   "source": [
    "train_df['Molecule ChEMBL ID'].apply(lambda v: v[:6]).unique()"
   ]
  },
  {
   "cell_type": "code",
   "execution_count": 24,
   "metadata": {},
   "outputs": [
    {
     "data": {
      "text/plain": [
       "array(['CHEMBL'], dtype=object)"
      ]
     },
     "execution_count": 24,
     "metadata": {},
     "output_type": "execute_result"
    }
   ],
   "source": [
    "train_df['Assay ChEMBL ID'].apply(lambda v: v[:6]).unique()"
   ]
  },
  {
   "cell_type": "code",
   "execution_count": 25,
   "metadata": {},
   "outputs": [
    {
     "data": {
      "text/plain": [
       "array(['CHEMBL'], dtype=object)"
      ]
     },
     "execution_count": 25,
     "metadata": {},
     "output_type": "execute_result"
    }
   ],
   "source": [
    "train_df['Document ChEMBL ID'].apply(lambda v: v[:6]).unique()"
   ]
  },
  {
   "cell_type": "code",
   "execution_count": 26,
   "metadata": {},
   "outputs": [],
   "source": [
    "# 전처리\n",
    "train_df['assay'] = train_df['Assay ChEMBL ID'].apply(lambda v: v[6:])\n",
    "train_df['document'] = train_df['Document ChEMBL ID'].apply(lambda v: v[6:])\n",
    "train_df['molecule'] = train_df['Molecule ChEMBL ID'].apply(lambda v: v[6:])"
   ]
  },
  {
   "cell_type": "code",
   "execution_count": 27,
   "metadata": {},
   "outputs": [
    {
     "data": {
      "text/html": [
       "<div>\n",
       "<style scoped>\n",
       "    .dataframe tbody tr th:only-of-type {\n",
       "        vertical-align: middle;\n",
       "    }\n",
       "\n",
       "    .dataframe tbody tr th {\n",
       "        vertical-align: top;\n",
       "    }\n",
       "\n",
       "    .dataframe thead th {\n",
       "        text-align: right;\n",
       "    }\n",
       "</style>\n",
       "<table border=\"1\" class=\"dataframe\">\n",
       "  <thead>\n",
       "    <tr style=\"text-align: right;\">\n",
       "      <th></th>\n",
       "      <th>Molecule ChEMBL ID</th>\n",
       "      <th>Assay ChEMBL ID</th>\n",
       "      <th>Document ChEMBL ID</th>\n",
       "      <th>IC50_nM</th>\n",
       "      <th>pIC50</th>\n",
       "      <th>Smiles</th>\n",
       "      <th>assay</th>\n",
       "      <th>document</th>\n",
       "      <th>molecule</th>\n",
       "    </tr>\n",
       "  </thead>\n",
       "  <tbody>\n",
       "    <tr>\n",
       "      <th>0</th>\n",
       "      <td>CHEMBL4443947</td>\n",
       "      <td>CHEMBL4361896</td>\n",
       "      <td>CHEMBL4359855</td>\n",
       "      <td>0.022</td>\n",
       "      <td>10.66</td>\n",
       "      <td>CN[C@@H](C)C(=O)N[C@H](C(=O)N1C[C@@H](NC(=O)CC...</td>\n",
       "      <td>4361896</td>\n",
       "      <td>4359855</td>\n",
       "      <td>4443947</td>\n",
       "    </tr>\n",
       "    <tr>\n",
       "      <th>1</th>\n",
       "      <td>CHEMBL4556091</td>\n",
       "      <td>CHEMBL4345131</td>\n",
       "      <td>CHEMBL4342485</td>\n",
       "      <td>0.026</td>\n",
       "      <td>10.59</td>\n",
       "      <td>CC(C)(O)[C@H](F)CN1Cc2cc(NC(=O)c3cnn4cccnc34)c...</td>\n",
       "      <td>4345131</td>\n",
       "      <td>4342485</td>\n",
       "      <td>4556091</td>\n",
       "    </tr>\n",
       "    <tr>\n",
       "      <th>2</th>\n",
       "      <td>CHEMBL4566431</td>\n",
       "      <td>CHEMBL4345131</td>\n",
       "      <td>CHEMBL4342485</td>\n",
       "      <td>0.078</td>\n",
       "      <td>10.11</td>\n",
       "      <td>CC(C)(O)[C@H](F)CN1Cc2cc(NC(=O)c3cnn4cccnc34)c...</td>\n",
       "      <td>4345131</td>\n",
       "      <td>4342485</td>\n",
       "      <td>4566431</td>\n",
       "    </tr>\n",
       "    <tr>\n",
       "      <th>3</th>\n",
       "      <td>CHEMBL4545898</td>\n",
       "      <td>CHEMBL4345131</td>\n",
       "      <td>CHEMBL4342485</td>\n",
       "      <td>0.081</td>\n",
       "      <td>10.09</td>\n",
       "      <td>CC(C)(O)[C@H](F)CN1Cc2cc(NC(=O)c3cnn4cccnc34)c...</td>\n",
       "      <td>4345131</td>\n",
       "      <td>4342485</td>\n",
       "      <td>4545898</td>\n",
       "    </tr>\n",
       "    <tr>\n",
       "      <th>4</th>\n",
       "      <td>CHEMBL4448950</td>\n",
       "      <td>CHEMBL4361896</td>\n",
       "      <td>CHEMBL4359855</td>\n",
       "      <td>0.099</td>\n",
       "      <td>10.00</td>\n",
       "      <td>COc1cc2c(OC[C@@H]3CCC(=O)N3)ncc(C#CCCCCCCCCCCC...</td>\n",
       "      <td>4361896</td>\n",
       "      <td>4359855</td>\n",
       "      <td>4448950</td>\n",
       "    </tr>\n",
       "  </tbody>\n",
       "</table>\n",
       "</div>"
      ],
      "text/plain": [
       "  Molecule ChEMBL ID Assay ChEMBL ID Document ChEMBL ID  IC50_nM  pIC50  \\\n",
       "0      CHEMBL4443947   CHEMBL4361896      CHEMBL4359855    0.022  10.66   \n",
       "1      CHEMBL4556091   CHEMBL4345131      CHEMBL4342485    0.026  10.59   \n",
       "2      CHEMBL4566431   CHEMBL4345131      CHEMBL4342485    0.078  10.11   \n",
       "3      CHEMBL4545898   CHEMBL4345131      CHEMBL4342485    0.081  10.09   \n",
       "4      CHEMBL4448950   CHEMBL4361896      CHEMBL4359855    0.099  10.00   \n",
       "\n",
       "                                              Smiles    assay document  \\\n",
       "0  CN[C@@H](C)C(=O)N[C@H](C(=O)N1C[C@@H](NC(=O)CC...  4361896  4359855   \n",
       "1  CC(C)(O)[C@H](F)CN1Cc2cc(NC(=O)c3cnn4cccnc34)c...  4345131  4342485   \n",
       "2  CC(C)(O)[C@H](F)CN1Cc2cc(NC(=O)c3cnn4cccnc34)c...  4345131  4342485   \n",
       "3  CC(C)(O)[C@H](F)CN1Cc2cc(NC(=O)c3cnn4cccnc34)c...  4345131  4342485   \n",
       "4  COc1cc2c(OC[C@@H]3CCC(=O)N3)ncc(C#CCCCCCCCCCCC...  4361896  4359855   \n",
       "\n",
       "  molecule  \n",
       "0  4443947  \n",
       "1  4556091  \n",
       "2  4566431  \n",
       "3  4545898  \n",
       "4  4448950  "
      ]
     },
     "execution_count": 27,
     "metadata": {},
     "output_type": "execute_result"
    }
   ],
   "source": [
    "train_df.head()"
   ]
  },
  {
   "cell_type": "markdown",
   "metadata": {},
   "source": [
    "- feature 중 Document, Essay 값이 같은 데이터 들의 Smiles 비교"
   ]
  },
  {
   "cell_type": "code",
   "execution_count": 39,
   "metadata": {},
   "outputs": [],
   "source": [
    "# SMILES 문자열\n",
    "smiles_string = 'CC(C)(O)[C@H](F)CN1Cc2cc(NC(=O)c3cnn4cccnc34)c(N3CCN(C4COC4)CC3)cc2C1=O'\n",
    "\n",
    "# 분자 객체 생성\n",
    "molecule = Chem.MolFromSmiles(smiles_string)\n",
    "\n",
    "# 2D 구조 그리기\n",
    "image = Draw.MolToImage(molecule)\n"
   ]
  },
  {
   "cell_type": "code",
   "execution_count": 46,
   "metadata": {},
   "outputs": [],
   "source": [
    "def img_of(smiles: str):\n",
    "    return Draw.MolToImage(Chem.MolFromSmiles(smiles))"
   ]
  },
  {
   "cell_type": "code",
   "execution_count": 53,
   "metadata": {},
   "outputs": [
    {
     "name": "stdout",
     "output_type": "stream",
     "text": [
      "<PIL.PngImagePlugin.PngImageFile image mode=RGB size=300x300 at 0x15C77EC50>\n"
     ]
    }
   ],
   "source": [
    "print(img_of(smiles_string))"
   ]
  },
  {
   "cell_type": "code",
   "execution_count": 54,
   "metadata": {},
   "outputs": [],
   "source": [
    "# 전처리\n",
    "train_df['img'] = train_df['Smiles'].apply(lambda x: img_of(x))"
   ]
  },
  {
   "cell_type": "code",
   "execution_count": 65,
   "metadata": {},
   "outputs": [
    {
     "data": {
      "image/jpeg": "[encoded data removed]",
      "image/png": "[encoded data removed]",
      "text/plain": [
       "<PIL.PngImagePlugin.PngImageFile image mode=RGB size=300x300>"
      ]
     },
     "execution_count": 65,
     "metadata": {},
     "output_type": "execute_result"
    }
   ],
   "source": [
    "train_df.iloc[1:4]['img'][1]"
   ]
  },
  {
   "cell_type": "code",
   "execution_count": 62,
   "metadata": {},
   "outputs": [
    {
     "data": {
      "image/jpeg": "[encoded data removed]",
      "image/png": "[encoded data removed]",
      "text/plain": [
       "<PIL.PngImagePlugin.PngImageFile image mode=RGB size=300x300>"
      ]
     },
     "execution_count": 62,
     "metadata": {},
     "output_type": "execute_result"
    }
   ],
   "source": [
    "train_df.iloc[1:4]['img'][2]"
   ]
  },
  {
   "cell_type": "code",
   "execution_count": 66,
   "metadata": {},
   "outputs": [
    {
     "data": {
      "image/jpeg": "[encoded data removed]",
      "image/png": "[encoded data removed]",
      "text/plain": [
       "<PIL.PngImagePlugin.PngImageFile image mode=RGB size=300x300>"
      ]
     },
     "execution_count": 66,
     "metadata": {},
     "output_type": "execute_result"
    }
   ],
   "source": [
    "train_df.iloc[1:4]['img'][3]"
   ]
  },
  {
   "cell_type": "markdown",
   "metadata": {},
   "source": [
    "아이디어\n",
    "- smiles를 image로 변환해 해당 이미지의 임베딩을 입력으로 사용 가능"
   ]
  },
  {
   "cell_type": "code",
   "execution_count": 229,
   "metadata": {},
   "outputs": [
    {
     "data": {
      "text/plain": [
       "assay         72\n",
       "document      66\n",
       "molecule    1952\n",
       "dtype: int64"
      ]
     },
     "execution_count": 229,
     "metadata": {},
     "output_type": "execute_result"
    }
   ],
   "source": [
    "train_df[['assay', 'document', 'molecule']].nunique()"
   ]
  },
  {
   "cell_type": "markdown",
   "metadata": {},
   "source": [
    "- CHEMBL 이라는 데이터베이스를 기반으로 한 데이터셋 구성으로 보임\n",
    "- document 에 여러종류의 assay 가 존재하는 듯?\n",
    "  - 2024.09.03 14:43 까지 확인한 바론, document는 논문 혹은 발표 단위. assay는 실험 단위. molucule은 화합물 단위.\n",
    "  - 하나의 document에 여러개의 assay가 포함될 수 있고, 각 assay는 보통 하나의 molecule을 실험하는 듯\n",
    "- 위 가정이 맞다면 아래와 같은 추론이 가능해보임\n",
    "  - document 별로 group by 한 document 들의 IC50 평가 값들은 유사한 범위 내에 포함될 확률이 높다 -> 확실하지 않다. document 별 통계값을 확인해볼 수 있을 것 같음."
   ]
  },
  {
   "cell_type": "markdown",
   "metadata": {},
   "source": [
    "- assay 와 document가 전체 값에 비해 종류가 적음\n",
    "- 각 그룹별로 유사한 패턴을 갖지 않는지 확인\n",
    "- 분자구조들의 유사도를 측정할 수 있으면 좋을 것 같음\n",
    "- 각 기준으로 그룹화 한 뒤 그룹내의 각 pair들간의 유사도 평균을 산출해 해당 값이 높으면 해당 기준이 분자구조간의 유사도와 연관이 있다는 의미 이므로, 분류 기준값으로 사용해도 될 것 같음\n",
    "  - https://medium.com/standigm/rdkit%EC%9D%84-%ED%99%9C%EC%9A%A9%ED%95%9C-chembl-%EB%B6%84%EC%9E%90%EB%93%A4-%EC%82%AC%EC%9D%B4%EC%9D%98-%EC%9C%A0%EC%82%AC%EB%8F%84-%EA%B2%80%EC%83%89-60307ccdb441\n",
    "- 학습 데이터는 아래 링크 데이터의 메타 정보를 따름: https://www.ebi.ac.uk/chembl/web_components/explore/activities/STATE_ID:RIRpPJ6zOpLv-SJ8HzgSFw%3D%3D"
   ]
  },
  {
   "cell_type": "code",
   "execution_count": 272,
   "metadata": {},
   "outputs": [
    {
     "data": {
      "text/html": [
       "<div>\n",
       "<style scoped>\n",
       "    .dataframe tbody tr th:only-of-type {\n",
       "        vertical-align: middle;\n",
       "    }\n",
       "\n",
       "    .dataframe tbody tr th {\n",
       "        vertical-align: top;\n",
       "    }\n",
       "\n",
       "    .dataframe thead tr th {\n",
       "        text-align: left;\n",
       "    }\n",
       "\n",
       "    .dataframe thead tr:last-of-type th {\n",
       "        text-align: right;\n",
       "    }\n",
       "</style>\n",
       "<table border=\"1\" class=\"dataframe\">\n",
       "  <thead>\n",
       "    <tr>\n",
       "      <th></th>\n",
       "      <th colspan=\"5\" halign=\"left\">IC50_nM</th>\n",
       "    </tr>\n",
       "    <tr>\n",
       "      <th></th>\n",
       "      <th>sum</th>\n",
       "      <th>mean</th>\n",
       "      <th>min</th>\n",
       "      <th>max</th>\n",
       "      <th>std</th>\n",
       "    </tr>\n",
       "    <tr>\n",
       "      <th>document</th>\n",
       "      <th></th>\n",
       "      <th></th>\n",
       "      <th></th>\n",
       "      <th></th>\n",
       "      <th></th>\n",
       "    </tr>\n",
       "  </thead>\n",
       "  <tbody>\n",
       "    <tr>\n",
       "      <th>1143094</th>\n",
       "      <td>57800.0</td>\n",
       "      <td>2890.000000</td>\n",
       "      <td>160.0</td>\n",
       "      <td>8900.0</td>\n",
       "      <td>2734.113924</td>\n",
       "    </tr>\n",
       "    <tr>\n",
       "      <th>1145577</th>\n",
       "      <td>23360.0</td>\n",
       "      <td>543.255814</td>\n",
       "      <td>1.0</td>\n",
       "      <td>8100.0</td>\n",
       "      <td>1324.091712</td>\n",
       "    </tr>\n",
       "    <tr>\n",
       "      <th>1147720</th>\n",
       "      <td>230600.0</td>\n",
       "      <td>6782.352941</td>\n",
       "      <td>150.0</td>\n",
       "      <td>30000.0</td>\n",
       "      <td>9212.186283</td>\n",
       "    </tr>\n",
       "    <tr>\n",
       "      <th>1150395</th>\n",
       "      <td>7179.0</td>\n",
       "      <td>1196.500000</td>\n",
       "      <td>200.0</td>\n",
       "      <td>3000.0</td>\n",
       "      <td>1092.917151</td>\n",
       "    </tr>\n",
       "    <tr>\n",
       "      <th>1240341</th>\n",
       "      <td>574.0</td>\n",
       "      <td>574.000000</td>\n",
       "      <td>574.0</td>\n",
       "      <td>574.0</td>\n",
       "      <td>NaN</td>\n",
       "    </tr>\n",
       "    <tr>\n",
       "      <th>...</th>\n",
       "      <td>...</td>\n",
       "      <td>...</td>\n",
       "      <td>...</td>\n",
       "      <td>...</td>\n",
       "      <td>...</td>\n",
       "    </tr>\n",
       "    <tr>\n",
       "      <th>5149965</th>\n",
       "      <td>1.3</td>\n",
       "      <td>1.300000</td>\n",
       "      <td>1.3</td>\n",
       "      <td>1.3</td>\n",
       "      <td>NaN</td>\n",
       "    </tr>\n",
       "    <tr>\n",
       "      <th>5149977</th>\n",
       "      <td>0.8</td>\n",
       "      <td>0.800000</td>\n",
       "      <td>0.8</td>\n",
       "      <td>0.8</td>\n",
       "      <td>NaN</td>\n",
       "    </tr>\n",
       "    <tr>\n",
       "      <th>5244269</th>\n",
       "      <td>2391.0</td>\n",
       "      <td>70.323529</td>\n",
       "      <td>0.6</td>\n",
       "      <td>730.0</td>\n",
       "      <td>164.013156</td>\n",
       "    </tr>\n",
       "    <tr>\n",
       "      <th>5257151</th>\n",
       "      <td>922.0</td>\n",
       "      <td>41.909091</td>\n",
       "      <td>13.0</td>\n",
       "      <td>150.0</td>\n",
       "      <td>36.808267</td>\n",
       "    </tr>\n",
       "    <tr>\n",
       "      <th>5260813</th>\n",
       "      <td>9.7</td>\n",
       "      <td>1.940000</td>\n",
       "      <td>0.7</td>\n",
       "      <td>3.0</td>\n",
       "      <td>1.080740</td>\n",
       "    </tr>\n",
       "  </tbody>\n",
       "</table>\n",
       "<p>66 rows × 5 columns</p>\n",
       "</div>"
      ],
      "text/plain": [
       "           IC50_nM                                          \n",
       "               sum         mean    min      max          std\n",
       "document                                                    \n",
       "1143094    57800.0  2890.000000  160.0   8900.0  2734.113924\n",
       "1145577    23360.0   543.255814    1.0   8100.0  1324.091712\n",
       "1147720   230600.0  6782.352941  150.0  30000.0  9212.186283\n",
       "1150395     7179.0  1196.500000  200.0   3000.0  1092.917151\n",
       "1240341      574.0   574.000000  574.0    574.0          NaN\n",
       "...            ...          ...    ...      ...          ...\n",
       "5149965        1.3     1.300000    1.3      1.3          NaN\n",
       "5149977        0.8     0.800000    0.8      0.8          NaN\n",
       "5244269     2391.0    70.323529    0.6    730.0   164.013156\n",
       "5257151      922.0    41.909091   13.0    150.0    36.808267\n",
       "5260813        9.7     1.940000    0.7      3.0     1.080740\n",
       "\n",
       "[66 rows x 5 columns]"
      ]
     },
     "execution_count": 272,
     "metadata": {},
     "output_type": "execute_result"
    }
   ],
   "source": [
    "train_df[['document', 'IC50_nM']].groupby(['document']).agg(['sum', 'mean', 'min', 'max', 'std'])"
   ]
  },
  {
   "cell_type": "code",
   "execution_count": 262,
   "metadata": {},
   "outputs": [
    {
     "data": {
      "text/html": [
       "<div>\n",
       "<style scoped>\n",
       "    .dataframe tbody tr th:only-of-type {\n",
       "        vertical-align: middle;\n",
       "    }\n",
       "\n",
       "    .dataframe tbody tr th {\n",
       "        vertical-align: top;\n",
       "    }\n",
       "\n",
       "    .dataframe thead th {\n",
       "        text-align: right;\n",
       "    }\n",
       "</style>\n",
       "<table border=\"1\" class=\"dataframe\">\n",
       "  <thead>\n",
       "    <tr style=\"text-align: right;\">\n",
       "      <th></th>\n",
       "      <th></th>\n",
       "      <th>IC50_nM</th>\n",
       "    </tr>\n",
       "    <tr>\n",
       "      <th>document</th>\n",
       "      <th>assay</th>\n",
       "      <th></th>\n",
       "    </tr>\n",
       "  </thead>\n",
       "  <tbody>\n",
       "    <tr>\n",
       "      <th>1143094</th>\n",
       "      <th>936449</th>\n",
       "      <td>2890.000000</td>\n",
       "    </tr>\n",
       "    <tr>\n",
       "      <th>1145577</th>\n",
       "      <th>921622</th>\n",
       "      <td>543.255814</td>\n",
       "    </tr>\n",
       "    <tr>\n",
       "      <th>1147720</th>\n",
       "      <th>870864</th>\n",
       "      <td>6782.352941</td>\n",
       "    </tr>\n",
       "    <tr>\n",
       "      <th>1150395</th>\n",
       "      <th>956501</th>\n",
       "      <td>1196.500000</td>\n",
       "    </tr>\n",
       "    <tr>\n",
       "      <th>1240341</th>\n",
       "      <th>1244586</th>\n",
       "      <td>574.000000</td>\n",
       "    </tr>\n",
       "    <tr>\n",
       "      <th>...</th>\n",
       "      <th>...</th>\n",
       "      <td>...</td>\n",
       "    </tr>\n",
       "    <tr>\n",
       "      <th>5149965</th>\n",
       "      <th>5150304</th>\n",
       "      <td>1.300000</td>\n",
       "    </tr>\n",
       "    <tr>\n",
       "      <th>5149977</th>\n",
       "      <th>5150846</th>\n",
       "      <td>0.800000</td>\n",
       "    </tr>\n",
       "    <tr>\n",
       "      <th>5244269</th>\n",
       "      <th>5246637</th>\n",
       "      <td>70.323529</td>\n",
       "    </tr>\n",
       "    <tr>\n",
       "      <th>5257151</th>\n",
       "      <th>5260512</th>\n",
       "      <td>41.909091</td>\n",
       "    </tr>\n",
       "    <tr>\n",
       "      <th>5260813</th>\n",
       "      <th>5262917</th>\n",
       "      <td>1.940000</td>\n",
       "    </tr>\n",
       "  </tbody>\n",
       "</table>\n",
       "<p>72 rows × 1 columns</p>\n",
       "</div>"
      ],
      "text/plain": [
       "                      IC50_nM\n",
       "document assay               \n",
       "1143094  936449   2890.000000\n",
       "1145577  921622    543.255814\n",
       "1147720  870864   6782.352941\n",
       "1150395  956501   1196.500000\n",
       "1240341  1244586   574.000000\n",
       "...                       ...\n",
       "5149965  5150304     1.300000\n",
       "5149977  5150846     0.800000\n",
       "5244269  5246637    70.323529\n",
       "5257151  5260512    41.909091\n",
       "5260813  5262917     1.940000\n",
       "\n",
       "[72 rows x 1 columns]"
      ]
     },
     "execution_count": 262,
     "metadata": {},
     "output_type": "execute_result"
    }
   ],
   "source": [
    "train_df[['assay', 'document', 'IC50_nM']].groupby(['document', 'assay']).agg(lambda x: np.mean(x))"
   ]
  },
  {
   "cell_type": "code",
   "execution_count": 258,
   "metadata": {},
   "outputs": [
    {
     "data": {
      "text/plain": [
       "['NC(=O)c1cnc(N[C@H]2CC[C@H](N)CC2)c2nc(-c3ccc(Cl)cc3)cn12']"
      ]
     },
     "execution_count": 258,
     "metadata": {},
     "output_type": "execute_result"
    }
   ],
   "source": [
    "train_df[['assay', 'Smiles']].groupby('assay').agg(lambda x: list(x)).iloc[7, 0]"
   ]
  },
  {
   "cell_type": "code",
   "execution_count": 260,
   "metadata": {},
   "outputs": [
    {
     "data": {
      "text/plain": [
       "['Clc1ccc2ncc(-c3cccc(NC4CCNC4)n3)n2c1',\n",
       " 'Clc1ccc2ncc(-c3cccc(NC4CCNCC4)n3)n2c1',\n",
       " 'c1cc(NC2CCNCC2)nc(-c2cnc3ccc(-c4cc[nH]n4)cn23)c1',\n",
       " 'Clc1ccc2ncn(-c3cccc(NC4CCNCC4)n3)c2c1',\n",
       " 'N#Cc1ccc2ncc(-c3cccc(NC4CCNCC4)n3)n2c1',\n",
       " 'NC(=O)c1ccc2ncc(-c3cccc(NC4CCNCC4)n3)n2c1',\n",
       " 'Clc1ccc2ncc(-c3cccc(NC4CNC4)n3)n2c1',\n",
       " 'COc1ccc2ncc(-c3cccc(NC4CCNCC4)n3)n2c1',\n",
       " 'Cn1cc(-c2ccc3ncc(-c4cccc(NC5CCNCC5)n4)n3c2)cn1',\n",
       " 'COc1ccc2ncc(-c3cccc(NC4CNC4)n3)n2c1',\n",
       " 'COc1ccc(-c2ccc3ncc(-c4cccc(NC5CCNCC5)n4)n3c2)cn1',\n",
       " 'Clc1ccc2ncc(-c3cccc(NC4CCCNC4)n3)n2c1',\n",
       " 'Cc1ccc2ncn(-c3cccc(NC4CCNCC4)n3)c2c1',\n",
       " 'COc1ccc2ncn(-c3cccc(NC4CCNCC4)n3)c2c1',\n",
       " 'c1cc(N[C@H]2CCCNC2)nc(-c2cnc3ccccn23)c1',\n",
       " 'c1cc(NC2CCNCC2)nc(-c2cnc3ccccn23)c1',\n",
       " 'c1cc(NC2CNC2)nc(-c2cnc3ccccn23)c1',\n",
       " 'CN(C)C(=O)c1ccc2ncc(-c3cccc(NC4CCNCC4)n3)n2c1',\n",
       " 'c1cc(NC2CCNCC2)nc(-c2cnc3ccc(-c4ccc[nH]4)cn23)c1',\n",
       " 'c1cc(NC2CCNCC2)nc(-n2cnc3ccccc32)c1',\n",
       " 'N#Cc1ccc2ncc(-c3cccc(N[C@@H]4CCCNC4)n3)n2c1',\n",
       " 'Clc1ccc2c(c1)ncn2-c1cccc(NC2CCNCC2)n1',\n",
       " 'c1cc(-c2cnc3ccccn23)nc(N2C[C@H]3C[C@@H]2CN3)c1',\n",
       " 'Clc1cc2ncn(-c3cccc(NC4CCNCC4)n3)c2cc1Cl',\n",
       " 'COc1cc2ncn(-c3cccc(NC4CCNCC4)n3)c2cc1OC',\n",
       " 'COc1ccc2c(c1)ncn2-c1cccc(NC2CCNCC2)n1',\n",
       " 'c1ccn2c(-c3ccnc(NC4CCNCC4)n3)cnc2c1',\n",
       " 'c1cc(NC2C[C@H]3CC[C@@H](C2)N3)nc(-c2cnc3ccccn23)c1',\n",
       " 'O=C(c1ccc2ncc(-c3cccc(NC4CCNCC4)n3)n2c1)N1CCOCC1',\n",
       " 'c1cc(NCC2CCCN2)nc(-c2cnc3ccccn23)c1',\n",
       " 'N#Cc1ccccc1Nc1cccc(-c2cnc3ccccn23)n1',\n",
       " 'c1cc(-c2cnc3ccccn23)nc(N2CCCNCC2)c1',\n",
       " 'Cn1cnc(CNc2cccc(-c3cnc4ccccn34)n2)c1',\n",
       " 'NC1CCCN(c2cccc(-c3cnc4ccccn34)n2)C1',\n",
       " 'c1cc(NC2CCNC2)nc(-c2cnc3ccccn23)c1',\n",
       " 'CN1[C@@H]2CC[C@H]1CC(Nc1cccc(-c3cnc4ccccn34)n1)C2',\n",
       " 'Cc1ccc2c(c1)ncn2-c1cccc(NC2CCNCC2)n1',\n",
       " 'Cn1nccc1Nc1cccc(-c2cnc3ccccn23)n1',\n",
       " 'c1ccc(Nc2cccc(-c3cnc4ccccn34)n2)cc1',\n",
       " 'NCCCNc1cccc(-c2cnc3ccccn23)n1',\n",
       " 'NC1CCN(c2cccc(-c3cnc4ccccn34)n2)CC1',\n",
       " 'c1cc(NCC2CCNCC2)nc(-c2cnc3ccccn23)c1',\n",
       " 'CN(C)CCCNc1cccc(-c2cnc3ccccn23)n1']"
      ]
     },
     "execution_count": 260,
     "metadata": {},
     "output_type": "execute_result"
    }
   ],
   "source": [
    "train_df[['document', 'Smiles']].groupby('document').agg(lambda x: list(x)).iloc[1, 0]"
   ]
  },
  {
   "cell_type": "markdown",
   "metadata": {},
   "source": [
    "## 1-2. chEMBL 데이터베이스 확인\n",
    "- train set 에 포함된 document id, assay id 값을 학습에 사용하기 위해선 TEST 데이터에 대해서도 동일한 데이터를 얻을 수 있어야 함.\n",
    "  - train 데이터의 Smiles 로 chEMBL 데이터에서 document 와 assay 값을 가져온 뒤 비교 검증\n",
    "  - 동일한 데이터가 존재한다면 test 데이터에 대해 동일로직 검증\n",
    "  - 결측치에 대한 처리 로직 고민 필요"
   ]
  },
  {
   "cell_type": "markdown",
   "metadata": {},
   "source": [
    "### chEMBL schema\n",
    "- full schema: https://ftp.ebi.ac.uk/pub/databases/chembl/ChEMBLdb/latest/chembl_34_schema.png\n",
    "- 주요 테이블\n",
    "  - DOCS: document 정보\n",
    "  - ASSAYS: assay 정보\n",
    "  - ASSAY_PARAMETERS: assay 별 측정값 정보 (IC50 값)\n",
    "  - TISSUE_DICTIONARY: assay에 매핑되는 화합물의 CHEMBL ID 정보"
   ]
  },
  {
   "cell_type": "markdown",
   "metadata": {},
   "source": [
    "- 데이터베이스는 파일기반 처리가 가능한 sqlite로 처리"
   ]
  },
  {
   "cell_type": "code",
   "execution_count": 274,
   "metadata": {},
   "outputs": [
    {
     "name": "stdout",
     "output_type": "stream",
     "text": [
      "--2024-09-03 15:35:02--  https://ftp.ebi.ac.uk/pub/databases/chembl/ChEMBLdb/latest/chembl_34_sqlite.tar.gz\n",
      "ftp.ebi.ac.uk (ftp.ebi.ac.uk) 해석 중... 193.62.193.165\n",
      "다음으로 연결 중: ftp.ebi.ac.uk (ftp.ebi.ac.uk)|193.62.193.165|:443... 연결했습니다.\n",
      "HTTP 요청을 보냈습니다. 응답 기다리는 중... 200 OK\n",
      "길이: 4859330198 (4.5G) [application/x-gzip]\n",
      "저장 위치: `chembl_34_sqlite.tar.gz'\n",
      "\n",
      "chembl_34_sqlite.ta   0%[                    ]   2.81M   231KB/s    약 8h 21m   ^C\n"
     ]
    }
   ],
   "source": [
    "!wget https://ftp.ebi.ac.uk/pub/databases/chembl/ChEMBLdb/latest/chembl_34_sqlite.tar.gz"
   ]
  },
  {
   "cell_type": "code",
   "execution_count": null,
   "metadata": {},
   "outputs": [],
   "source": [
    "!tar -zxvf chembl_34_mysql.tar.gz"
   ]
  },
  {
   "cell_type": "markdown",
   "metadata": {},
   "source": [
    "---\n",
    "# 2. 학습 파이프라인 생성"
   ]
  },
  {
   "cell_type": "code",
   "execution_count": 222,
   "metadata": {},
   "outputs": [
    {
     "name": "stdout",
     "output_type": "stream",
     "text": [
      "[Preprocess] start loading datas...\n",
      "[Preprocess] end loading datas...\n",
      "[Preprocess] end loading datas...\n",
      "[Preprocess] start test datas...\n",
      "[Preprocess] end loading datas...\n"
     ]
    },
    {
     "name": "stderr",
     "output_type": "stream",
     "text": [
      "100%|██████████| 61/61 [00:03<00:00, 17.91it/s]\n"
     ]
    },
    {
     "name": "stdout",
     "output_type": "stream",
     "text": [
      "Epoch [1/1], Loss: 271583311.1460\n"
     ]
    },
    {
     "name": "stderr",
     "output_type": "stream",
     "text": [
      "100%|██████████| 4/4 [00:00<00:00, 19.52it/s]\n"
     ]
    }
   ],
   "source": [
    "class DataPreprocess:\n",
    "    def __init__(self, \n",
    "                 data_dir: str, \n",
    "                 train_name: str = 'train.csv',\n",
    "                 test_name: str = 'test.csv'):\n",
    "        self.data_dir = data_dir\n",
    "        self.train_name = train_name\n",
    "        self.test_name = test_name\n",
    "        self._load_datas()\n",
    "        self._preprocess()\n",
    "    \n",
    "    def _load_datas(self):\n",
    "        print(\"[Preprocess] start loading datas...\")\n",
    "        self.train_df = pd.read_csv(os.path.join(self.data_dir, self.train_name))\n",
    "        self.test_df = pd.read_csv(os.path.join(self.data_dir, self.test_name))\n",
    "        print(\"[Preprocess] end loading datas...\")\n",
    "\n",
    "    def _preprocess(self):\n",
    "        def img_of(smiles: str):\n",
    "            return Draw.MolToImage(Chem.MolFromSmiles(smiles))\n",
    "        \n",
    "        print(\"[Preprocess] end loading datas...\")\n",
    "        self.train_df['assay'] = self.train_df['Assay ChEMBL ID'].apply(lambda v: v[6:])\n",
    "        self.train_df['document'] = self.train_df['Document ChEMBL ID'].apply(lambda v: v[6:])\n",
    "        self.train_df['molecule'] = self.train_df['Molecule ChEMBL ID'].apply(lambda v: v[6:])\n",
    "        self.train_df = self.train_df.drop(self.train_df.columns[self.train_df.nunique() == 1], axis=1)\n",
    "        self.train_df['img'] = self.train_df['Smiles'].apply(lambda x: img_of(x))\n",
    "        self.train_df = self.train_df.drop(['Standard Value', 'pChEMBL Value', 'Assay ChEMBL ID', 'Document ChEMBL ID', 'Molecule ChEMBL ID'], axis=1)\n",
    "        \n",
    "        print(\"[Preprocess] start test datas...\")\n",
    "        self.test_df['img'] = self.test_df['Smiles'].apply(lambda x: img_of(x))\n",
    "        print(\"[Preprocess] end loading datas...\")\n",
    "\n",
    "class IC50Dataset(Dataset):\n",
    "    def __init__(self, data: pd.DataFrame, transform, train: bool = True):\n",
    "        self.data = data\n",
    "        self.transform = transform\n",
    "        self.train = train\n",
    "\n",
    "    def __len__(self):\n",
    "        return len(self.data)\n",
    "\n",
    "    def __getitem__(self, index):\n",
    "        item = self.data.iloc[index]\n",
    "        return {\n",
    "            'X': self.transform(item['img']).view(-1,),\n",
    "            # 'X': np.array(item['img'], dtype=np.float32).reshape(-1,),\n",
    "            'Y': item['IC50_nM']\n",
    "        } if self.train else {\n",
    "            'X': self.transform(item['img']).view(-1,),\n",
    "        }\n",
    "\n",
    "preprocessor = DataPreprocess('../data')\n",
    "\n",
    "train_df, test_df = preprocessor.train_df, preprocessor.test_df\n",
    "\n",
    "# 이미지 변환 정의 (300x300 크기로 조정)\n",
    "transform = transforms.Compose([\n",
    "    transforms.Resize((300, 300)),\n",
    "    transforms.ToTensor(),\n",
    "    transforms.Normalize(mean=[0.485, 0.456, 0.406], std=[0.229, 0.224, 0.225])\n",
    "])\n",
    "\n",
    "train_dataset = IC50Dataset(train_df, transform=transform)\n",
    "train_dataloader = DataLoader(train_dataset, batch_size=32)\n",
    "\n",
    "test_dataset = IC50Dataset(test_df, transform=transform, train=False)\n",
    "test_dataloader = DataLoader(test_dataset, batch_size=32)\n",
    "\n",
    "# ResNet50 사전 훈련된 모델 로드 및 수정\n",
    "resnet = models.resnet50(weights=ResNet50_Weights.DEFAULT)\n",
    "# embedding_size = resnet.fc.in_features  # 수정된 부분\n",
    "embedding_size = 300 * 300 * 3  # 수정된 부분\n",
    "resnet.fc = nn.Identity()  # 마지막 fc 레이어 제거하여 임베딩을 출력하도록 설정\n",
    "\n",
    "# 추가 모델 정의 (임베딩을 입력으로 사용하여 회귀 작업 수행)\n",
    "class SimpleImageRegressor(nn.Module):\n",
    "    def __init__(self, embedding_size):\n",
    "        super(SimpleImageRegressor, self).__init__()\n",
    "        self.fc = nn.Linear(embedding_size, 1)  # 간단한 회귀 모델\n",
    "\n",
    "    def forward(self, x):\n",
    "        return self.fc(x)\n",
    "\n",
    "# 모델 초기화\n",
    "model = SimpleImageRegressor(embedding_size)\n",
    "\n",
    "# 손실 함수와 옵티마이저 정의\n",
    "criterion = nn.MSELoss(reduction='mean')\n",
    "optimizer = optim.Adam(model.parameters(), lr=0.001)\n",
    "\n",
    "# 훈련 루프\n",
    "num_epochs = 1\n",
    "for epoch in range(num_epochs):\n",
    "    model.train()\n",
    "    train_loss = 0.\n",
    "    for data in tqdm(train_dataloader):\n",
    "        optimizer.zero_grad()\n",
    "        images, targets = data['X'], data['Y']\n",
    "        outputs = model(images)\n",
    "        loss = criterion(outputs.squeeze(), targets.float())\n",
    "        loss.backward()\n",
    "        optimizer.step()\n",
    "\n",
    "        train_loss += loss.item()\n",
    "    \n",
    "    print(f\"Epoch [{epoch+1}/{num_epochs}], Loss: {train_loss:.4f}\")\n",
    "\n",
    "# 훈련이 완료되면 임베딩 추출 및 추가적인 예측 작업에 사용할 수 있습니다.\n",
    "submission = []\n",
    "for data in tqdm(test_dataloader):\n",
    "    model.eval()\n",
    "    images = data['X']\n",
    "    outputs = model(images)\n",
    "    submission.extend(outputs.detach().numpy())\n",
    "\n",
    "sample_df = pd.read_csv('../data/sample_submission.csv')\n",
    "sample_df['IC50_nM'] = np.array(submission).reshape(-1)\n",
    "\n",
    "output_name = datetime.now(pytz.timezone(\"Asia/Seoul\"))\n",
    "sample_df.to_csv(f'../data/submissions/{output_name}.csv', index=False)"
   ]
  },
  {
   "cell_type": "code",
   "execution_count": 207,
   "metadata": {},
   "outputs": [
    {
     "name": "stderr",
     "output_type": "stream",
     "text": [
      "100%|██████████| 4/4 [00:00<00:00, 27.73it/s]\n"
     ]
    }
   ],
   "source": [
    "submission = []\n",
    "for data in tqdm(test_dataloader):\n",
    "    model.eval()\n",
    "    images = data['X']\n",
    "    outputs = model(images)\n",
    "    submission.extend(outputs.detach().numpy())\n",
    "\n",
    "sample_df['IC50_nM'] = np.array(submission).reshape(-1)"
   ]
  },
  {
   "cell_type": "code",
   "execution_count": 213,
   "metadata": {},
   "outputs": [],
   "source": [
    "sample_df['IC50_nM'] = np.array(submission).reshape(-1)"
   ]
  },
  {
   "cell_type": "code",
   "execution_count": 214,
   "metadata": {},
   "outputs": [
    {
     "data": {
      "text/html": [
       "<div>\n",
       "<style scoped>\n",
       "    .dataframe tbody tr th:only-of-type {\n",
       "        vertical-align: middle;\n",
       "    }\n",
       "\n",
       "    .dataframe tbody tr th {\n",
       "        vertical-align: top;\n",
       "    }\n",
       "\n",
       "    .dataframe thead th {\n",
       "        text-align: right;\n",
       "    }\n",
       "</style>\n",
       "<table border=\"1\" class=\"dataframe\">\n",
       "  <thead>\n",
       "    <tr style=\"text-align: right;\">\n",
       "      <th></th>\n",
       "      <th>ID</th>\n",
       "      <th>IC50_nM</th>\n",
       "      <th>test</th>\n",
       "    </tr>\n",
       "  </thead>\n",
       "  <tbody>\n",
       "    <tr>\n",
       "      <th>0</th>\n",
       "      <td>TEST_000</td>\n",
       "      <td>1633.167480</td>\n",
       "      <td>1633.167480</td>\n",
       "    </tr>\n",
       "    <tr>\n",
       "      <th>1</th>\n",
       "      <td>TEST_001</td>\n",
       "      <td>2095.527588</td>\n",
       "      <td>2095.527588</td>\n",
       "    </tr>\n",
       "    <tr>\n",
       "      <th>2</th>\n",
       "      <td>TEST_002</td>\n",
       "      <td>1781.367676</td>\n",
       "      <td>1781.367676</td>\n",
       "    </tr>\n",
       "    <tr>\n",
       "      <th>3</th>\n",
       "      <td>TEST_003</td>\n",
       "      <td>1138.500732</td>\n",
       "      <td>1138.500732</td>\n",
       "    </tr>\n",
       "    <tr>\n",
       "      <th>4</th>\n",
       "      <td>TEST_004</td>\n",
       "      <td>1984.530273</td>\n",
       "      <td>1984.530273</td>\n",
       "    </tr>\n",
       "  </tbody>\n",
       "</table>\n",
       "</div>"
      ],
      "text/plain": [
       "         ID      IC50_nM         test\n",
       "0  TEST_000  1633.167480  1633.167480\n",
       "1  TEST_001  2095.527588  2095.527588\n",
       "2  TEST_002  1781.367676  1781.367676\n",
       "3  TEST_003  1138.500732  1138.500732\n",
       "4  TEST_004  1984.530273  1984.530273"
      ]
     },
     "execution_count": 214,
     "metadata": {},
     "output_type": "execute_result"
    }
   ],
   "source": [
    "sample_df.head()"
   ]
  }
 ],
 "metadata": {
  "kernelspec": {
   "display_name": "ic50-prediction-aM1espru-py3.11",
   "language": "python",
   "name": "python3"
  },
  "language_info": {
   "codemirror_mode": {
    "name": "ipython",
    "version": 3
   },
   "file_extension": ".py",
   "mimetype": "text/x-python",
   "name": "python",
   "nbconvert_exporter": "python",
   "pygments_lexer": "ipython3",
   "version": "3.11.5"
  }
 },
 "nbformat": 4,
 "nbformat_minor": 2
}
